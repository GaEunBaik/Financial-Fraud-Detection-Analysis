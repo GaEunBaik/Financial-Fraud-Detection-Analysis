{
 "cells": [
  {
   "cell_type": "code",
   "execution_count": 1,
   "id": "b82afd8b-f59e-4232-abe4-a060b8e6ba17",
   "metadata": {},
   "outputs": [],
   "source": [
    "# 🧠 코드 구성 요약\n",
    "# | 단계         | 설명                                            |\n",
    "# | ---------- | --------------------------------------------- |\n",
    "# | 1️⃣ 파일 로딩  | 데이터 타입 최적화 적용 (`category`, `int32`, `string`) |\n",
    "# | 2️⃣ 전처리    | `이용금액`, `이용건수` 정규화 (`StandardScaler`)         |\n",
    "# | 3️⃣ 이상값 탐지 | `Isolation Forest` (이상소비 탐지용)                 |\n",
    "# | 4️⃣ 군집 분석  | `KMeans` (유사 소비패턴 분류용)                        |\n",
    "# | 5️⃣ 결과 저장  | `is_outlier`, `cluster` 컬럼 포함하여 CSV로 저장       |"
   ]
  },
  {
   "cell_type": "code",
   "execution_count": 2,
   "id": "4bd8cc06-562a-4723-a28d-ba410455bd3f",
   "metadata": {},
   "outputs": [
    {
     "name": "stdout",
     "output_type": "stream",
     "text": [
      "🎉 분석 결과 저장 완료: D:\\따릉이\\공공자전거23년\\카드소비데이터_분석결과.csv\n"
     ]
    }
   ],
   "source": [
    "import pandas as pd\n",
    "from sklearn.ensemble import IsolationForest\n",
    "from sklearn.preprocessing import StandardScaler\n",
    "from sklearn.cluster import KMeans\n",
    "\n",
    "# 파일 경로\n",
    "file_path = r\"D:\\따릉이\\공공자전거23년\\카드소비데이터.csv\"\n",
    "output_path = r\"D:\\따릉이\\공공자전거23년\\카드소비데이터_분석결과.csv\"\n",
    "\n",
    "# 데이터 타입 최적화 설정\n",
    "dtype_dict = {\n",
    "    '성별': 'category',\n",
    "    '시간대별': 'category',\n",
    "    '시군구': 'category',\n",
    "    '시도': 'category',\n",
    "    '업종명': 'category',\n",
    "    '연령대': 'category',\n",
    "    '요일': 'category',\n",
    "    '월별_날짜': 'string',  # 날짜로 연산할 경우 'datetime64[ns]'도 가능\n",
    "    '이용건수': 'int16',\n",
    "    '이용금액': 'int32'\n",
    "}\n",
    "\n",
    "# CSV 읽기\n",
    "df = pd.read_csv(file_path, dtype=dtype_dict, encoding='utf-8')\n",
    "\n",
    "# 분석 대상 수치형 변수 선택\n",
    "features = ['이용금액', '이용건수']\n",
    "X = df[features]\n",
    "\n",
    "# 스케일링 (정규화)\n",
    "scaler = StandardScaler()\n",
    "X_scaled = scaler.fit_transform(X)\n",
    "\n",
    "# Isolation Forest로 이상값 탐지\n",
    "iso_forest = IsolationForest(contamination=0.03, random_state=42)\n",
    "df['is_outlier'] = iso_forest.fit_predict(X_scaled)\n",
    "df['is_outlier'] = df['is_outlier'].apply(lambda x: 1 if x == -1 else 0)\n",
    "\n",
    "# KMeans 클러스터링 (4개 군집)\n",
    "kmeans = KMeans(n_clusters=4, random_state=42)\n",
    "df['cluster'] = kmeans.fit_predict(X_scaled)\n",
    "\n",
    "# 결과 저장\n",
    "df.to_csv(output_path, index=False, encoding='utf-8-sig')\n",
    "print(\"🎉 분석 결과 저장 완료:\", output_path)\n"
   ]
  }
 ],
 "metadata": {
  "kernelspec": {
   "display_name": "Python 3 (ipykernel)",
   "language": "python",
   "name": "python3"
  },
  "language_info": {
   "codemirror_mode": {
    "name": "ipython",
    "version": 3
   },
   "file_extension": ".py",
   "mimetype": "text/x-python",
   "name": "python",
   "nbconvert_exporter": "python",
   "pygments_lexer": "ipython3",
   "version": "3.9.12"
  }
 },
 "nbformat": 4,
 "nbformat_minor": 5
}
